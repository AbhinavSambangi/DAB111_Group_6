{
 "cells": [
  {
   "cell_type": "markdown",
   "id": "c1f5da37",
   "metadata": {},
   "source": [
    "# Data Preprocessing: Create DB and Load CSV into SQLite"
   ]
  },
  {
   "cell_type": "code",
   "execution_count": 1,
   "id": "515b553b",
   "metadata": {},
   "outputs": [
    {
     "data": {
      "text/html": [
       "<div>\n",
       "<style scoped>\n",
       "    .dataframe tbody tr th:only-of-type {\n",
       "        vertical-align: middle;\n",
       "    }\n",
       "\n",
       "    .dataframe tbody tr th {\n",
       "        vertical-align: top;\n",
       "    }\n",
       "\n",
       "    .dataframe thead th {\n",
       "        text-align: right;\n",
       "    }\n",
       "</style>\n",
       "<table border=\"1\" class=\"dataframe\">\n",
       "  <thead>\n",
       "    <tr style=\"text-align: right;\">\n",
       "      <th></th>\n",
       "      <th>Collections</th>\n",
       "      <th>Sales</th>\n",
       "      <th>Buyers</th>\n",
       "      <th>Txns</th>\n",
       "      <th>Owners</th>\n",
       "    </tr>\n",
       "  </thead>\n",
       "  <tbody>\n",
       "    <tr>\n",
       "      <th>0</th>\n",
       "      <td>Axie Infinity</td>\n",
       "      <td>$4,090,222,023</td>\n",
       "      <td>1,790,587</td>\n",
       "      <td>17,670,824</td>\n",
       "      <td>2,130,467</td>\n",
       "    </tr>\n",
       "    <tr>\n",
       "      <th>1</th>\n",
       "      <td>Bored Ape Yacht Club</td>\n",
       "      <td>$2,439,754,017</td>\n",
       "      <td>12,052</td>\n",
       "      <td>32,670</td>\n",
       "      <td>6,586</td>\n",
       "    </tr>\n",
       "    <tr>\n",
       "      <th>2</th>\n",
       "      <td>CryptoPunks</td>\n",
       "      <td>$2,388,467,992</td>\n",
       "      <td>6,076</td>\n",
       "      <td>22,269</td>\n",
       "      <td>3,804</td>\n",
       "    </tr>\n",
       "    <tr>\n",
       "      <th>3</th>\n",
       "      <td>Mutant Ape Yacht Club</td>\n",
       "      <td>$1,744,822,678</td>\n",
       "      <td>23,768</td>\n",
       "      <td>51,775</td>\n",
       "      <td>13,121</td>\n",
       "    </tr>\n",
       "    <tr>\n",
       "      <th>4</th>\n",
       "      <td>Art Blocks</td>\n",
       "      <td>$1,310,734,558</td>\n",
       "      <td>33,549</td>\n",
       "      <td>184,470</td>\n",
       "      <td>36,091</td>\n",
       "    </tr>\n",
       "  </tbody>\n",
       "</table>\n",
       "</div>"
      ],
      "text/plain": [
       "             Collections           Sales     Buyers        Txns     Owners\n",
       "0          Axie Infinity  $4,090,222,023  1,790,587  17,670,824  2,130,467\n",
       "1   Bored Ape Yacht Club  $2,439,754,017     12,052      32,670      6,586\n",
       "2            CryptoPunks  $2,388,467,992      6,076      22,269      3,804\n",
       "3  Mutant Ape Yacht Club  $1,744,822,678     23,768      51,775     13,121\n",
       "4             Art Blocks  $1,310,734,558     33,549     184,470     36,091"
      ]
     },
     "execution_count": 1,
     "metadata": {},
     "output_type": "execute_result"
    }
   ],
   "source": [
    "import sqlite3\n",
    "import pandas as pd\n",
    "import os\n",
    "\n",
    "# Read CSV\n",
    "csv_file = 'nft_sales.csv'\n",
    "df = pd.read_csv(csv_file)\n",
    "df.head()"
   ]
  },
  {
   "cell_type": "code",
   "execution_count": 2,
   "id": "99eac7ad",
   "metadata": {},
   "outputs": [
    {
     "name": "stdout",
     "output_type": "stream",
     "text": [
      "<class 'pandas.core.frame.DataFrame'>\n",
      "RangeIndex: 250 entries, 0 to 249\n",
      "Data columns (total 5 columns):\n",
      " #   Column       Non-Null Count  Dtype \n",
      "---  ------       --------------  ----- \n",
      " 0   Collections  250 non-null    object\n",
      " 1   Sales        250 non-null    object\n",
      " 2   Buyers       250 non-null    object\n",
      " 3   Txns         250 non-null    object\n",
      " 4   Owners       231 non-null    object\n",
      "dtypes: object(5)\n",
      "memory usage: 9.9+ KB\n"
     ]
    }
   ],
   "source": [
    "df.info() # Check for missing values"
   ]
  },
  {
   "cell_type": "markdown",
   "id": "22859827",
   "metadata": {},
   "source": [
    "### Converting Sales Column to Int64"
   ]
  },
  {
   "cell_type": "code",
   "execution_count": 3,
   "id": "bbf39ed3",
   "metadata": {},
   "outputs": [],
   "source": [
    "df['Sales'] = df['Sales'].astype(str).str.replace('$', '') # Remove dollar sign\n",
    "df['Sales'] = df['Sales'].astype(str).str.replace(',', '')  # Remove commas\n",
    "df['Sales'] = df['Sales'].replace('nan', 'NaN')  # To convert 'nan' values as string\n",
    "df['Sales'] = df['Sales'].fillna('NaN').astype('Int64')  # Convert to int"
   ]
  },
  {
   "cell_type": "markdown",
   "id": "18b7ed30",
   "metadata": {},
   "source": [
    "### Converting Buyers Column to Int64"
   ]
  },
  {
   "cell_type": "code",
   "execution_count": 4,
   "id": "a535a9b2",
   "metadata": {},
   "outputs": [],
   "source": [
    "df['Buyers'] = df['Buyers'].astype(str).str.replace(',', '')  # Remove commas\n",
    "df['Buyers'] = df['Buyers'].replace('nan', 'NaN')  # To convert 'nan' values as string\n",
    "df['Buyers'] = df['Buyers'].fillna('NaN').astype('Int64')  # Convert to int"
   ]
  },
  {
   "cell_type": "markdown",
   "id": "e4fa1d26",
   "metadata": {},
   "source": [
    "### Converting Txns Column to Int64"
   ]
  },
  {
   "cell_type": "code",
   "execution_count": 5,
   "id": "445e151b",
   "metadata": {},
   "outputs": [],
   "source": [
    "df['Txns'] = df['Txns'].astype(str).str.replace(',', '')  # Remove commas\n",
    "df['Txns'] = df['Txns'].replace('nan', 'NaN')  # To convert 'nan' values as string\n",
    "df['Txns'] = df['Txns'].fillna('NaN').astype('Int64')  # Convert to int\n",
    "df['Transactions'] = df['Txns']\n",
    "df = df.drop(columns=['Txns'])"
   ]
  },
  {
   "cell_type": "markdown",
   "id": "7c6f4f3c",
   "metadata": {},
   "source": [
    "### Converting Owners Column to Int64"
   ]
  },
  {
   "cell_type": "code",
   "execution_count": 6,
   "id": "098528b5",
   "metadata": {},
   "outputs": [],
   "source": [
    "df['Owners'] = df['Owners'].astype(str).str.replace(',', '')  # Remove commas\n",
    "df['Owners'] = df['Owners'].replace({'nan': None, 'NaN': None, '' : None})  # Handle NaNs properly\n",
    "df['Owners'] = df['Owners'].astype('Int64')  # Convert to nullable integer type\n"
   ]
  },
  {
   "cell_type": "code",
   "execution_count": 7,
   "id": "de7fd8a6",
   "metadata": {},
   "outputs": [
    {
     "name": "stdout",
     "output_type": "stream",
     "text": [
      "<class 'pandas.core.frame.DataFrame'>\n",
      "RangeIndex: 250 entries, 0 to 249\n",
      "Data columns (total 5 columns):\n",
      " #   Column        Non-Null Count  Dtype \n",
      "---  ------        --------------  ----- \n",
      " 0   Collections   250 non-null    object\n",
      " 1   Sales         250 non-null    Int64 \n",
      " 2   Buyers        250 non-null    Int64 \n",
      " 3   Owners        231 non-null    Int64 \n",
      " 4   Transactions  250 non-null    Int64 \n",
      "dtypes: Int64(4), object(1)\n",
      "memory usage: 10.9+ KB\n"
     ]
    }
   ],
   "source": [
    "df.info() # Check for missing values"
   ]
  },
  {
   "cell_type": "code",
   "execution_count": 8,
   "id": "db855ac8",
   "metadata": {},
   "outputs": [
    {
     "name": "stdout",
     "output_type": "stream",
     "text": [
      "Database saved at: c:\\Users\\abhin\\OneDrive\\Desktop\\Python Group 6\\database\\nft.db\n",
      "Tables: [('data',)]\n",
      "Data in table 'data':\n",
      "             Collections       Sales   Buyers   Owners  Transactions\n",
      "0          Axie Infinity  4090222023  1790587  2130467      17670824\n",
      "1   Bored Ape Yacht Club  2439754017    12052     6586         32670\n",
      "2            CryptoPunks  2388467992     6076     3804         22269\n",
      "3  Mutant Ape Yacht Club  1744822678    23768    13121         51775\n",
      "4             Art Blocks  1310734558    33549    36091        184470\n"
     ]
    }
   ],
   "source": [
    "db_path = os.path.abspath('../database/nft.db')\n",
    "conn = sqlite3.connect(db_path)\n",
    "df.to_sql('data', conn, if_exists='replace', index=False)\n",
    "print(\"Database saved at:\", db_path)\n",
    "print(\"Tables:\", conn.execute(\"SELECT name FROM sqlite_master WHERE type='table';\").fetchall())\n",
    "print(\"Data in table 'data':\")\n",
    "print(pd.read_sql_query(\"SELECT * FROM data LIMIT 5;\", conn))\n",
    "\n",
    "conn.close()"
   ]
  }
 ],
 "metadata": {
  "kernelspec": {
   "display_name": "Python 3",
   "language": "python",
   "name": "python3"
  },
  "language_info": {
   "codemirror_mode": {
    "name": "ipython",
    "version": 3
   },
   "file_extension": ".py",
   "mimetype": "text/x-python",
   "name": "python",
   "nbconvert_exporter": "python",
   "pygments_lexer": "ipython3",
   "version": "3.13.1"
  }
 },
 "nbformat": 4,
 "nbformat_minor": 5
}
